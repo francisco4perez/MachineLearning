{
 "cells": [
  {
   "cell_type": "code",
   "execution_count": 1,
   "metadata": {
    "collapsed": false,
    "scrolled": false
   },
   "outputs": [
    {
     "name": "stdout",
     "output_type": "stream",
     "text": [
      "hola.. estamos realizando la operacion\n",
      "termino de cargar la data con menos caracteristicas (ya filtrada)\n",
      "Score de regresion ordinaria: 0.590312\n",
      "Score de regresion Ridge: 0.591824 , con alpha: 1676.832937\n",
      "Score de regresion Lasso: 0.577160 , con alpha: 255954.792270\n"
     ]
    },
    {
     "name": "stderr",
     "output_type": "stream",
     "text": [
      "/usr/lib/python2.7/dist-packages/sklearn/linear_model/coordinate_descent.py:490: ConvergenceWarning: Objective did not converge. You might want to increase the number of iterations\n",
      "  ConvergenceWarning)\n"
     ]
    }
   ],
   "source": [
    "import pandas as pd\n",
    "import numpy as np\n",
    "from scipy.sparse import csr_matrix\n",
    "from scipy.io import mmread\n",
    "#X = csr_matrix(mmread('test.x.mm'))\n",
    "#y = np.loadtxt('test.y.dat')\n",
    "\n",
    "print \"hola.. estamos realizando la operacion\"\n",
    "\n",
    "#para los datos con columna oscar\n",
    "X_test = csr_matrix(mmread('ngrams-deprels-fp1-origin.runtime.budget.numscreen.ratings.seasons.stars/test.x.mm'))\n",
    "y_test = np.loadtxt('ngrams-deprels-fp1-origin.runtime.budget.numscreen.ratings.seasons.stars/test.y.dat')\n",
    "\n",
    "X_train = csr_matrix(mmread('ngrams-deprels-fp1-origin.runtime.budget.numscreen.ratings.seasons.stars/train.x.mm'))\n",
    "y_train = np.loadtxt('ngrams-deprels-fp1-origin.runtime.budget.numscreen.ratings.seasons.stars/train.y.dat')\n",
    "\n",
    "X_val = csr_matrix(mmread('ngrams-deprels-fp1-origin.runtime.budget.numscreen.ratings.seasons.stars/dev.x.mm'))\n",
    "y_val = np.loadtxt('ngrams-deprels-fp1-origin.runtime.budget.numscreen.ratings.seasons.stars/dev.y.dat')\n",
    "\n",
    "print \"termino de cargar la data con menos caracteristicas (ya filtrada)\"\n",
    "\n",
    "import sklearn.linear_model as lm\n",
    "def MSE(y,yhat): return np.mean(np.power(y-yhat,2))\n",
    "\n",
    "def best_alpha(alphas_, X,y, model, X_val,y_val):\n",
    "    best_cv_mse = float(\"inf\")\n",
    "    for a in alphas_:\n",
    "        model.set_params(alpha=a)\n",
    "        mse =  MSE(model.fit(X,y).predict(X_val) , y_val)\n",
    "        if mse < best_cv_mse:\n",
    "            best_cv_mse = mse\n",
    "            best_alpha = a\n",
    "    return best_alpha\n",
    "\n",
    "model = lm.LinearRegression(fit_intercept = False)\n",
    "model.fit(X_train,y_train)\n",
    "best_score = model.score(X_test,y_test)\n",
    "print \"Score de regresion ordinaria: %f\"%(best_score)\n",
    "\n",
    "model = lm.Ridge(fit_intercept = False  )\n",
    "alphas_ = np.logspace(2,5, base = 10)\n",
    "a = best_alpha(alphas_,X_train,y_train,model,X_val,y_val)\n",
    "model.set_params(alpha=a)\n",
    "model.fit(X_train,y_train)\n",
    "score = model.score(X_test, y_test)\n",
    "print \"Score de regresion Ridge: %f , con alpha: %f\"%(score,a)\n",
    "\n",
    "model = lm.Lasso(fit_intercept = False)\n",
    "alphas_ = np.logspace(8,4, base= 10)\n",
    "a =  255954.792270 #best_alpha(alphas_, X_train,y_train, model, X_val,y_val)  #a = 255954.792270 \n",
    "model.set_params(alpha=a)\n",
    "model.fit(X_train,y_train)\n",
    "score = model.score(X_test, y_test)\n",
    "print \"Score de regresion Lasso: %f , con alpha: %f\"%(score,a)"
   ]
  },
  {
   "cell_type": "markdown",
   "metadata": {},
   "source": [
    "Analisis de error para Ridge"
   ]
  },
  {
   "cell_type": "code",
   "execution_count": 4,
   "metadata": {
    "collapsed": false
   },
   "outputs": [],
   "source": [
    "alphas_ = np.logspace(7,-2,base=10)\n",
    "coefs = []\n",
    "model = lm.Ridge(fit_intercept=False)\n",
    "mse_test = []\n",
    "mse_train = []\n",
    "mse_val = []\n",
    "for a in alphas_:\n",
    "    model.set_params(alpha=a)\n",
    "    model.fit(X_train, y_train)\n",
    "    yhat_train = model.predict(X_train)\n",
    "    yhat_val = model.predict(X_val)\n",
    "    yhat_test = model.predict(X_test)\n",
    "    mse_train.append(MSE(yhat_train,y_train))\n",
    "    mse_test.append(MSE(yhat_test, y_test))\n",
    "    mse_val.append(MSE(yhat_val,y_val))\n",
    "import matplotlib.pylab as plt\n",
    "ax = plt.gca()\n",
    "ax.plot(alphas_,mse_train,label='train error Ridge')\n",
    "ax.plot(alphas_,mse_val,label= 'cross-validation error Ridge')\n",
    "ax.plot(alphas_,mse_test,label='test error Ridge')\n",
    "plt.legend(loc=2)\n",
    "ax.set_xscale('log')\n",
    "ax.set_xlim(ax.get_xlim()[::-1])\n",
    "plt.show()"
   ]
  },
  {
   "cell_type": "markdown",
   "metadata": {},
   "source": [
    "Analisis de Error para Lasso"
   ]
  },
  {
   "cell_type": "code",
   "execution_count": 7,
   "metadata": {
    "collapsed": false
   },
   "outputs": [],
   "source": [
    "alphas_ = np.logspace(8,-2,base=10)  # 8 a 0\n",
    "coefs = []\n",
    "model = lm.Lasso(fit_intercept=False, tol =0.0000001)\n",
    "mse_test = []\n",
    "mse_train = []\n",
    "mse_val = []\n",
    "for a in alphas_:\n",
    "    model.set_params(alpha=a)\n",
    "    model.fit(X_train, y_train)\n",
    "    yhat_train = model.predict(X_train)\n",
    "    yhat_val = model.predict(X_val)\n",
    "    yhat_test = model.predict(X_test)\n",
    "    mse_train.append(MSE(yhat_train,y_train))\n",
    "    mse_test.append(MSE(yhat_test, y_test))\n",
    "    mse_val.append(MSE(yhat_val,y_val))\n",
    "import matplotlib.pylab as plt\n",
    "ax = plt.gca()\n",
    "ax.plot(alphas_,mse_train,label='train error Lasso')\n",
    "ax.plot(alphas_,mse_val,label= 'cross-validation error Lasso')\n",
    "ax.plot(alphas_,mse_test,label='test error Lasso')\n",
    "plt.legend(loc=2)\n",
    "ax.set_xscale('log')\n",
    "ax.set_xlim(ax.get_xlim()[::-1])\n",
    "plt.show()"
   ]
  },
  {
   "cell_type": "markdown",
   "metadata": {},
   "source": [
    "Lasso por si solo"
   ]
  },
  {
   "cell_type": "code",
   "execution_count": 3,
   "metadata": {
    "collapsed": false
   },
   "outputs": [
    {
     "name": "stdout",
     "output_type": "stream",
     "text": [
      "Score de regresion Lasso: 0.469955 , con alpha: 22239850.028864\n"
     ]
    }
   ],
   "source": [
    "import sklearn.linear_model as lm\n",
    "#para regresión Lasso\n",
    "model = lm.RidgeCV(fit_intercept = False)\n",
    "#alphas_ = np.logspace(7,4, base= 10)\n",
    "#print \"calculando alphas\"\n",
    "#a = best_alpha(alphas_, X_train,y_train, model, X_val,y_val)\n",
    "#a = 560700 #con 560700 .596520     #probar con menor a 100mil\n",
    "#model.set_params(alpha=a)\n",
    "model.fit(X_train,y_train)\n",
    "score = model.score(X_test, y_test)\n",
    "print \"Score de regresion Lasso: %f , con alpha: %f\"%(score,model.alpha_)"
   ]
  },
  {
   "cell_type": "markdown",
   "metadata": {},
   "source": [
    "reduccion de caracteristica"
   ]
  },
  {
   "cell_type": "code",
   "execution_count": null,
   "metadata": {
    "collapsed": false
   },
   "outputs": [],
   "source": [
    "import sklearn.linear_model as lm\n",
    "\n",
    "model = lm.LinearRegression(fit_intercept = False)\n",
    "model.fit(X_train,y_train)\n",
    "\n",
    "def MSE(y,yhat): return np.mean(np.power(y-yhat,2))\n",
    "\n",
    "def fss(x, y,  x_val, y_val, k = 10000):\n",
    "    p = x.shape[1]-1\n",
    "    k = min(p, k)\n",
    "    remaining = range(0, p)\n",
    "    selected = [p]\n",
    "    current_score = 0.0\n",
    "    best_new_score = 0.0\n",
    "    while remaining and len(selected)<=k :\n",
    "        score_candidates = []\n",
    "        for candidate in remaining:\n",
    "            model = lm.LinearRegression(fit_intercept=False)\n",
    "            indexes = selected + [candidate]\n",
    "            x_train = x[:,indexes]\n",
    "            \n",
    "            #calcular error mediante cross validation\n",
    "            mse_candidate = MSE(model.fit(x_train,y).predict(x_val[:,indexes]) , y_val)\n",
    "            #mse_candidate = C_V(x_train,y, K=10)\n",
    "            score_candidates.append((mse_candidate, candidate))\n",
    "        score_candidates.sort()\n",
    "        score_candidates[:] = score_candidates[::-1]\n",
    "        best_new_score, best_candidate = score_candidates.pop() #el de menor error es el mejor candidato\n",
    "        remaining.remove(best_candidate)\n",
    "        selected.append(best_candidate)\n",
    "        print \"selected = %s ...\"%names_x[best_candidate]\n",
    "        print \"totalvars=%d, mse = %f\"%(len(indexes),best_new_score)\n",
    "    return selected\n",
    "sequence = fss(X_train,y_train,X_val,y_val)\n",
    "print sequence"
   ]
  },
  {
   "cell_type": "markdown",
   "metadata": {},
   "source": [
    "DATASET CON MAS CARACTERISTICAS"
   ]
  },
  {
   "cell_type": "code",
   "execution_count": null,
   "metadata": {
    "collapsed": true
   },
   "outputs": [],
   "source": [
    "X_test = csr_matrix(mmread('ngrams-deprels-origin.runtime.budget.numscreen.ratings.seasons/test.x.mm'))\n",
    "y_test = np.loadtxt('ngrams-deprels-origin.runtime.budget.numscreen.ratings.seasons/test.y.dat')\n",
    "\n",
    "X_train = csr_matrix(mmread('ngrams-deprels-origin.runtime.budget.numscreen.ratings.seasons/train.x.mm'))\n",
    "y_train = np.loadtxt('ngrams-deprels-origin.runtime.budget.numscreen.ratings.seasons/train.y.dat')\n",
    "\n",
    "X_val = csr_matrix(mmread('ngrams-deprels-origin.runtime.budget.numscreen.ratings.seasons/dev.x.mm'))\n",
    "y_val = np.loadtxt('ngrams-deprels-origin.runtime.budget.numscreen.ratings.seasons/dev.y.dat')\n",
    "\n",
    "print \"termino de cargar la data\"\n",
    "\n",
    "import sklearn.linear_model as lm\n",
    "\n",
    "model = lm.LinearRegression(fit_intercept = False)\n",
    "model.fit(X_train,y_train)\n",
    "best_score = model.score(X_test,y_test)\n",
    "print \"Score de regresion ordinaria: %f\"%(best_score)\n",
    "\n",
    "model = lm.Ridge(fit_intercept = False )\n",
    "alphas_ = np.logspace(4,9, base = 10)\n",
    "a = best_alpha(alphas_,X_train,y_train,model,X_val,y_val)\n",
    "model.set_params(alpha=a)\n",
    "model.fit(X_train,y_train)\n",
    "score = model.score(X_test, y_test)\n",
    "print \"Score de regresion Ridge: %f , con alpha: %f\"%(score,a)\n",
    "\n",
    "model = lm.Lasso(fit_intercept = False ,tol = 0.0000001)\n",
    "alphas_ = np.logspace(7,4, base= 10)\n",
    "a = best_alpha(alphas_, X_train,y_train, model, X_val,y_val)  #a = 255954.792270 \n",
    "model.set_params(alpha=a)\n",
    "model.fit(X_train,y_train)\n",
    "score = model.score(X_test, y_test)\n",
    "print \"Score de regresion Lasso: %f , con alpha: %f\"%(score,a)"
   ]
  },
  {
   "cell_type": "code",
   "execution_count": null,
   "metadata": {
    "collapsed": true
   },
   "outputs": [],
   "source": [
    "print \"hola\""
   ]
  },
  {
   "cell_type": "code",
   "execution_count": null,
   "metadata": {
    "collapsed": true
   },
   "outputs": [],
   "source": []
  }
 ],
 "metadata": {
  "kernelspec": {
   "display_name": "Python 2",
   "language": "python",
   "name": "python2"
  },
  "language_info": {
   "codemirror_mode": {
    "name": "ipython",
    "version": 2
   },
   "file_extension": ".py",
   "mimetype": "text/x-python",
   "name": "python",
   "nbconvert_exporter": "python",
   "pygments_lexer": "ipython2",
   "version": "2.7.9"
  }
 },
 "nbformat": 4,
 "nbformat_minor": 1
}
