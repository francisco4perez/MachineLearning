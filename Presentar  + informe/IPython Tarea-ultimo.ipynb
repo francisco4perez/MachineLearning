{
 "cells": [
  {
   "cell_type": "code",
   "execution_count": 1,
   "metadata": {
    "collapsed": false,
    "scrolled": true
   },
   "outputs": [
    {
     "name": "stdout",
     "output_type": "stream",
     "text": [
      "hola\n",
      "termino de cargar la data\n"
     ]
    }
   ],
   "source": [
    "import pandas as pd\n",
    "import numpy as np\n",
    "from scipy.sparse import csr_matrix\n",
    "from scipy.io import mmread\n",
    "#X = csr_matrix(mmread('test.x.mm'))\n",
    "#y = np.loadtxt('test.y.dat')\n",
    "\n",
    "print \"hola\"\n",
    "\n",
    "#para los datos con columna oscar\n",
    "X_test = csr_matrix(mmread('ngrams-deprels-fp1-origin.runtime.budget.numscreen.ratings.seasons.stars/test.x.mm'))\n",
    "y_test = np.loadtxt('ngrams-deprels-fp1-origin.runtime.budget.numscreen.ratings.seasons.stars/test.y.dat')\n",
    "\n",
    "X_train = csr_matrix(mmread('ngrams-deprels-fp1-origin.runtime.budget.numscreen.ratings.seasons.stars/train.x.mm'))\n",
    "y_train = np.loadtxt('ngrams-deprels-fp1-origin.runtime.budget.numscreen.ratings.seasons.stars/train.y.dat')\n",
    "\n",
    "X_val = csr_matrix(mmread('ngrams-deprels-fp1-origin.runtime.budget.numscreen.ratings.seasons.stars/dev.x.mm'))\n",
    "y_val = np.loadtxt('ngrams-deprels-fp1-origin.runtime.budget.numscreen.ratings.seasons.stars/dev.y.dat')\n",
    "\n",
    "print \"termino de cargar la data\""
   ]
  },
  {
   "cell_type": "code",
   "execution_count": null,
   "metadata": {
    "collapsed": false
   },
   "outputs": [
    {
     "name": "stdout",
     "output_type": "stream",
     "text": [
      "hola mundito\n",
      "Score de regresion ordinaria: 0.590312\n",
      "Score de regresion Ridge: 0.559932 , con alpha: 1000.000000\n"
     ]
    }
   ],
   "source": [
    "import sklearn.linear_model as lm\n",
    "#model = lm.LinearRegression(fit_intercept = False)\n",
    "#model.fit(X_train,y_train)\n",
    "#print \"R2=%f\"%model.score(X_test, y_test)\n",
    "\n",
    "print \"hola mundito\"\n",
    "def MSE(y,yhat): return np.mean(np.power(y-yhat,2))\n",
    "\n",
    "def best_alpha(alphas_, X,y, model, X_val,y_val):\n",
    "    best_cv_mse = float(\"inf\")\n",
    "    for a in alphas_:\n",
    "        model.set_params(alpha=a)\n",
    "        mse =  MSE(model.fit(X,y).predict(X_val) , y_val)\n",
    "        if mse < best_cv_mse:\n",
    "            best_cv_mse = mse\n",
    "            best_alpha = a\n",
    "    return best_alpha\n",
    "\n",
    "#def best_model(X_train, y_train, X_test, y_test, X_val, y_val): \n",
    "#para regresión LSS\n",
    "model = lm.LinearRegression(fit_intercept = False)\n",
    "model.fit(X_train,y_train)\n",
    "best_score = model.score(X_test,y_test)\n",
    "best_model = model\n",
    "print \"Score de regresion ordinaria: %f\"%(best_score)\n",
    "    \n",
    "#para regresión Ridge\n",
    "model = lm.Ridge(fit_intercept = True )\n",
    "alphas_ = np.logspace(-4,7, base = 10)\n",
    "a = best_alpha(alphas_, X_train,y_train, model, X_val,y_val)\n",
    "#a = 1000\n",
    "model.set_params(alpha=a)\n",
    "model.fit(X_train,y_train)\n",
    "score = model.score(X_test, y_test)\n",
    "if   score  < best_score :\n",
    "    best_score = score\n",
    "    best_model = model\n",
    "print \"Score de regresion Ridge: %f , con alpha: %f\"%(score,a)\n",
    "    \n",
    "#para regresión Lasso\n",
    "#model = lm.Lasso(fit_intercept = True)\n",
    "#a = best_alpha(alphas_, X_train,y_train, model, X_val,y_val)\n",
    "#a = 100\n",
    "#model.set_params(alpha=a)\n",
    "#model.fit(X_train,y_train)\n",
    "#score = model.score(X_test, y_test)\n",
    "#if  score < best_score :\n",
    "#    best_score = score\n",
    "#    best_model = model\n",
    "#print \"Score de regresion Lasso: %f , con alpha: %f\"%(score,a)\n",
    "\n",
    "print \"BEST SCORE = %f\"%(best_score)\n",
    "print model\n",
    "\n",
    "#best_model(X_train, y_train, X_test, y_test, X_val, y_val)"
   ]
  },
  {
   "cell_type": "code",
   "execution_count": null,
   "metadata": {
    "collapsed": false
   },
   "outputs": [
    {
     "name": "stderr",
     "output_type": "stream",
     "text": [
      "/usr/lib/python2.7/dist-packages/sklearn/linear_model/coordinate_descent.py:490: ConvergenceWarning: Objective did not converge. You might want to increase the number of iterations\n",
      "  ConvergenceWarning)\n"
     ]
    }
   ],
   "source": [
    "import sklearn.linear_model as lm\n",
    "\n",
    "#para regresión Lasso\n",
    "model = lm.Laso(fit_intercept = True )\n",
    "#alphas_ = np.logspace(-4,4, base = 10)\n",
    "#a = best_alpha(alphas_, X_train,y_train, model, X_val,y_val)\n",
    "a = 10    \n",
    "model.set_params(alpha=a)\n",
    "model.fit(X_train,y_train)\n",
    "score = model.score(X_test, y_test)\n",
    "print \"Score de regresion Lasso: %f , con alpha: %f\"%(score,a)    "
   ]
  }
 ],
 "metadata": {
  "kernelspec": {
   "display_name": "Python 2",
   "language": "python",
   "name": "python2"
  },
  "language_info": {
   "codemirror_mode": {
    "name": "ipython",
    "version": 2
   },
   "file_extension": ".py",
   "mimetype": "text/x-python",
   "name": "python",
   "nbconvert_exporter": "python",
   "pygments_lexer": "ipython2",
   "version": "2.7.9"
  }
 },
 "nbformat": 4,
 "nbformat_minor": 1
}
