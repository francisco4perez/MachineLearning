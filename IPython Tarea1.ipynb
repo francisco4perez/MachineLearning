{
 "cells": [
  {
   "cell_type": "code",
   "execution_count": 1,
   "metadata": {
    "collapsed": false,
    "scrolled": false
   },
   "outputs": [],
   "source": [
    "import pandas as pd\n",
    "import numpy as np\n",
    "url = 'http://statweb.stanford.edu/~tibs/ElemStatLearn/datasets/prostate.data'\n",
    "df = pd.read_csv(url, sep='\\t', header=0)\n",
    "df = df.drop('Unnamed: 0', axis=1)\n",
    "\n",
    "istrain_str = df['train']\n",
    "istrain = np.asarray([True if s == 'T' else False for s in istrain_str])\n",
    "istest = np.logical_not(istrain)\n",
    "\n",
    "df = df.drop('train', axis=1)"
   ]
  },
  {
   "cell_type": "code",
   "execution_count": 2,
   "metadata": {
    "collapsed": false,
    "scrolled": true
   },
   "outputs": [
    {
     "name": "stdout",
     "output_type": "stream",
     "text": [
      "<class 'pandas.core.frame.DataFrame'>\n",
      "Int64Index: 97 entries, 0 to 96\n",
      "Data columns (total 9 columns):\n",
      "lcavol     97 non-null float64\n",
      "lweight    97 non-null float64\n",
      "age        97 non-null int64\n",
      "lbph       97 non-null float64\n",
      "svi        97 non-null int64\n",
      "lcp        97 non-null float64\n",
      "gleason    97 non-null int64\n",
      "pgg45      97 non-null int64\n",
      "lpsa       97 non-null float64\n",
      "dtypes: float64(5), int64(4)\n",
      "memory usage: 7.6 KB\n"
     ]
    },
    {
     "data": {
      "text/html": [
       "<div style=\"max-height:1000px;max-width:1500px;overflow:auto;\">\n",
       "<table border=\"1\" class=\"dataframe\">\n",
       "  <thead>\n",
       "    <tr style=\"text-align: right;\">\n",
       "      <th></th>\n",
       "      <th>lcavol</th>\n",
       "      <th>lweight</th>\n",
       "      <th>age</th>\n",
       "      <th>lbph</th>\n",
       "      <th>svi</th>\n",
       "      <th>lcp</th>\n",
       "      <th>gleason</th>\n",
       "      <th>pgg45</th>\n",
       "      <th>lpsa</th>\n",
       "    </tr>\n",
       "  </thead>\n",
       "  <tbody>\n",
       "    <tr>\n",
       "      <th>count</th>\n",
       "      <td> 97.000000</td>\n",
       "      <td> 97.000000</td>\n",
       "      <td> 97.000000</td>\n",
       "      <td> 97.000000</td>\n",
       "      <td> 97.000000</td>\n",
       "      <td> 97.000000</td>\n",
       "      <td> 97.000000</td>\n",
       "      <td>  97.000000</td>\n",
       "      <td> 97.000000</td>\n",
       "    </tr>\n",
       "    <tr>\n",
       "      <th>mean</th>\n",
       "      <td>  1.350010</td>\n",
       "      <td>  3.628943</td>\n",
       "      <td> 63.865979</td>\n",
       "      <td>  0.100356</td>\n",
       "      <td>  0.216495</td>\n",
       "      <td> -0.179366</td>\n",
       "      <td>  6.752577</td>\n",
       "      <td>  24.381443</td>\n",
       "      <td>  2.478387</td>\n",
       "    </tr>\n",
       "    <tr>\n",
       "      <th>std</th>\n",
       "      <td>  1.178625</td>\n",
       "      <td>  0.428411</td>\n",
       "      <td>  7.445117</td>\n",
       "      <td>  1.450807</td>\n",
       "      <td>  0.413995</td>\n",
       "      <td>  1.398250</td>\n",
       "      <td>  0.722134</td>\n",
       "      <td>  28.204035</td>\n",
       "      <td>  1.154329</td>\n",
       "    </tr>\n",
       "    <tr>\n",
       "      <th>min</th>\n",
       "      <td> -1.347074</td>\n",
       "      <td>  2.374906</td>\n",
       "      <td> 41.000000</td>\n",
       "      <td> -1.386294</td>\n",
       "      <td>  0.000000</td>\n",
       "      <td> -1.386294</td>\n",
       "      <td>  6.000000</td>\n",
       "      <td>   0.000000</td>\n",
       "      <td> -0.430783</td>\n",
       "    </tr>\n",
       "    <tr>\n",
       "      <th>25%</th>\n",
       "      <td>  0.512824</td>\n",
       "      <td>  3.375880</td>\n",
       "      <td> 60.000000</td>\n",
       "      <td> -1.386294</td>\n",
       "      <td>  0.000000</td>\n",
       "      <td> -1.386294</td>\n",
       "      <td>  6.000000</td>\n",
       "      <td>   0.000000</td>\n",
       "      <td>  1.731656</td>\n",
       "    </tr>\n",
       "    <tr>\n",
       "      <th>50%</th>\n",
       "      <td>  1.446919</td>\n",
       "      <td>  3.623007</td>\n",
       "      <td> 65.000000</td>\n",
       "      <td>  0.300105</td>\n",
       "      <td>  0.000000</td>\n",
       "      <td> -0.798508</td>\n",
       "      <td>  7.000000</td>\n",
       "      <td>  15.000000</td>\n",
       "      <td>  2.591516</td>\n",
       "    </tr>\n",
       "    <tr>\n",
       "      <th>75%</th>\n",
       "      <td>  2.127041</td>\n",
       "      <td>  3.876396</td>\n",
       "      <td> 68.000000</td>\n",
       "      <td>  1.558145</td>\n",
       "      <td>  0.000000</td>\n",
       "      <td>  1.178655</td>\n",
       "      <td>  7.000000</td>\n",
       "      <td>  40.000000</td>\n",
       "      <td>  3.056357</td>\n",
       "    </tr>\n",
       "    <tr>\n",
       "      <th>max</th>\n",
       "      <td>  3.821004</td>\n",
       "      <td>  4.780383</td>\n",
       "      <td> 79.000000</td>\n",
       "      <td>  2.326302</td>\n",
       "      <td>  1.000000</td>\n",
       "      <td>  2.904165</td>\n",
       "      <td>  9.000000</td>\n",
       "      <td> 100.000000</td>\n",
       "      <td>  5.582932</td>\n",
       "    </tr>\n",
       "  </tbody>\n",
       "</table>\n",
       "</div>"
      ],
      "text/plain": [
       "          lcavol    lweight        age       lbph        svi        lcp  \\\n",
       "count  97.000000  97.000000  97.000000  97.000000  97.000000  97.000000   \n",
       "mean    1.350010   3.628943  63.865979   0.100356   0.216495  -0.179366   \n",
       "std     1.178625   0.428411   7.445117   1.450807   0.413995   1.398250   \n",
       "min    -1.347074   2.374906  41.000000  -1.386294   0.000000  -1.386294   \n",
       "25%     0.512824   3.375880  60.000000  -1.386294   0.000000  -1.386294   \n",
       "50%     1.446919   3.623007  65.000000   0.300105   0.000000  -0.798508   \n",
       "75%     2.127041   3.876396  68.000000   1.558145   0.000000   1.178655   \n",
       "max     3.821004   4.780383  79.000000   2.326302   1.000000   2.904165   \n",
       "\n",
       "         gleason       pgg45       lpsa  \n",
       "count  97.000000   97.000000  97.000000  \n",
       "mean    6.752577   24.381443   2.478387  \n",
       "std     0.722134   28.204035   1.154329  \n",
       "min     6.000000    0.000000  -0.430783  \n",
       "25%     6.000000    0.000000   1.731656  \n",
       "50%     7.000000   15.000000   2.591516  \n",
       "75%     7.000000   40.000000   3.056357  \n",
       "max     9.000000  100.000000   5.582932  "
      ]
     },
     "execution_count": 2,
     "metadata": {},
     "output_type": "execute_result"
    }
   ],
   "source": [
    "df.shape\n",
    "df.info()\n",
    "df.describe()"
   ]
  },
  {
   "cell_type": "markdown",
   "metadata": {},
   "source": [
    "estandarizar datos"
   ]
  },
  {
   "cell_type": "code",
   "execution_count": 3,
   "metadata": {
    "collapsed": false
   },
   "outputs": [],
   "source": [
    "from sklearn.preprocessing import StandardScaler\n",
    "scaler = StandardScaler()\n",
    "df_scaled = pd.DataFrame(scaler.fit_transform(df), columns=df.columns)\n",
    "df_scaled['lpsa'] = df['lpsa']"
   ]
  },
  {
   "cell_type": "markdown",
   "metadata": {},
   "source": [
    "Ajuste lineal sobre Xtrain e ytrain, guardando en linreg"
   ]
  },
  {
   "cell_type": "code",
   "execution_count": 4,
   "metadata": {
    "collapsed": false
   },
   "outputs": [
    {
     "name": "stdout",
     "output_type": "stream",
     "text": [
      "<class 'pandas.core.frame.DataFrame'>\n"
     ]
    }
   ],
   "source": [
    "import sklearn.linear_model as lm\n",
    "X = df_scaled.ix[:,:-1] #se le elimina la columna del target\n",
    "N = X.shape[0]\n",
    "X.insert(X.shape[1], 'intercept', np.ones(N))\n",
    "y = df_scaled['lpsa'] #columna target\n",
    "Xtrain = X[istrain]\n",
    "ytrain = y[istrain]\n",
    "Xtest = X[np.logical_not(istrain)]\n",
    "ytest = y[np.logical_not(istrain)]\n",
    "linreg = lm.LinearRegression(fit_intercept = False)\n",
    "linreg.fit(Xtrain, ytrain)\n",
    "print type(Xtrain)"
   ]
  },
  {
   "cell_type": "markdown",
   "metadata": {},
   "source": [
    "tabla de pesos y Z-score"
   ]
  },
  {
   "cell_type": "code",
   "execution_count": 5,
   "metadata": {
    "collapsed": false,
    "scrolled": true
   },
   "outputs": [
    {
     "name": "stdout",
     "output_type": "stream",
     "text": [
      "the coefficient are:\n",
      "[ 0.67601634  0.26169361 -0.14073374  0.20906052  0.30362332 -0.28700184\n",
      " -0.02119493  0.26557614  2.46493292]\n",
      "the std error of each coefficient: \n",
      "[ 0.11720864  0.08851408  0.09380322  0.09461459  0.1144052   0.14303334\n",
      "  0.13444176  0.1421857   0.08309998]\n",
      "the Z-score of each predictor:\n",
      "[  5.7676325    2.95651948  -1.50030828   2.20960124   2.65392947\n",
      "  -2.00653805  -0.15765142   1.86781184  29.66225822]\n",
      "[['Lcavol' '0.6760163' '0.1172086' '5.7676324']\n",
      " ['Lweight' '0.2616936' '0.0885140' '2.9565194']\n",
      " ['Age' '-0.140733' '0.0938032' '-1.500308']\n",
      " ['Lbph' '0.2090605' '0.0946145' '2.2096012']\n",
      " ['Svi' '0.3036233' '0.1144051' '2.6539294']\n",
      " ['Lcp' '-0.287001' '0.1430333' '-2.006538']\n",
      " ['Gleason' '-0.021194' '0.1344417' '-0.157651']\n",
      " ['Pgg45' '0.2655761' '0.1421857' '1.8678118']\n",
      " ['Intercept' '2.4649329' '0.0830999' '29.662258']]\n"
     ]
    }
   ],
   "source": [
    "#el error del modelo respecto a los datos que conformaron el modelo, es decir error de regresion lineal por minimos cuadrados\n",
    "yhat_model = linreg.predict(Xtrain)\n",
    "Xm = Xtrain.as_matrix()\n",
    "mse_model = np.mean( np.power( (yhat_model - ytrain) , 2) )\n",
    "var_est = mse_model * np.diag(np.linalg.pinv(np.dot(Xm.T,Xm)))\n",
    "std_err = np.sqrt(var_est)\n",
    "\n",
    "print \"the coefficient are:\"\n",
    "print linreg.coef_\n",
    "print \"the std error of each coefficient: \"\n",
    "print std_err\n",
    "print \"the Z-score of each predictor:\"\n",
    "print linreg.coef_/std_err\n",
    "names_regressors = [\"Lcavol\", \"Lweight\", \"Age\", \"Lbph\", \"Svi\", \"Lcp\", \"Gleason\", \"Pgg45\", \"Intercept\"]\n",
    "table = [names_regressors, linreg.coef_, std_err, linreg.coef_/std_err]\n",
    "table = np.matrix(table)\n",
    "print table.T"
   ]
  },
  {
   "cell_type": "markdown",
   "metadata": {},
   "source": [
    "cross-validation"
   ]
  },
  {
   "cell_type": "code",
   "execution_count": 6,
   "metadata": {
    "collapsed": false
   },
   "outputs": [
    {
     "name": "stdout",
     "output_type": "stream",
     "text": [
      "error test: 0.521274\n",
      "error cross-validation K = 10: 0.757237\n",
      "error cross-validation K=5: 0.956515\n",
      "error porcentual de K =10 y K = 5\n",
      "31.1610922439\n",
      "45.5027672053\n"
     ]
    }
   ],
   "source": [
    "from sklearn import cross_validation\n",
    "def C_V(Xm,ym, K=10):\n",
    "    k_fold = cross_validation.KFold(len(Xm),K)\n",
    "    mse_cv = 0\n",
    "    for k, (train, val) in enumerate(k_fold):\n",
    "        linreg = lm.LinearRegression(fit_intercept = False)\n",
    "        linreg.fit(Xm[train], ym[train])\n",
    "        yhat_val = linreg.predict(Xm[val])\n",
    "        mse_fold = np.mean(np.power(yhat_val - ym[val], 2))\n",
    "        mse_cv += mse_fold\n",
    "    mse_cv = mse_cv / K\n",
    "    return mse_cv\n",
    "\n",
    "yhat_test = linreg.predict(Xtest)\n",
    "mse_test = np.mean(np.power(yhat_test - ytest, 2))\n",
    "Xm = Xtrain.as_matrix()\n",
    "ym = ytrain.as_matrix()\n",
    "\n",
    "print \"error test: %f\"%(mse_test)\n",
    "print \"error cross-validation K = 10: %f\"%(C_V(Xm,ym))\n",
    "print \"error cross-validation K=5: %f\"%(C_V(Xm,ym,5))\n",
    "ep = (C_V(Xm,ym) - mse_test)/C_V(Xm,ym)\n",
    "print \"error porcentual de K =10 y K = 5\"\n",
    "print ep*100\n",
    "ep = (C_V(Xm,ym,5) - mse_test)/C_V(Xm,ym,5)\n",
    "print ep*100\n"
   ]
  },
  {
   "cell_type": "markdown",
   "metadata": {},
   "source": [
    "error de entrenamiento y QQ-plot"
   ]
  },
  {
   "cell_type": "code",
   "execution_count": 7,
   "metadata": {
    "collapsed": false
   },
   "outputs": [],
   "source": [
    "yhat_train = linreg.predict(Xtrain)\n",
    "residuo = np.power(yhat_train - ytrain, 2)\n",
    "\n",
    "# QQplot\n",
    "import pylab \n",
    "import scipy.stats as stats\n",
    "  \n",
    "stats.probplot(residuo,dist=\"norm\", plot=pylab)\n",
    "pylab.title(\"Residuos\")\n",
    "pylab.show()"
   ]
  },
  {
   "cell_type": "markdown",
   "metadata": {},
   "source": [
    "Seleccionar atributos/caracteristicas"
   ]
  },
  {
   "cell_type": "code",
   "execution_count": 57,
   "metadata": {
    "collapsed": false,
    "scrolled": false
   },
   "outputs": [
    {
     "name": "stdout",
     "output_type": "stream",
     "text": [
      "selected = Lcavol ...\n",
      "totalvars=2, mse = 0.876172\n",
      "selected = Lweight ...\n",
      "totalvars=3, mse = 0.752606\n",
      "selected = Lbph ...\n",
      "totalvars=4, mse = 0.748883\n",
      "selected = Svi ...\n",
      "totalvars=5, mse = 0.746635\n",
      "selected = Pgg45 ...\n",
      "totalvars=6, mse = 0.748007\n",
      "selected = Lcp ...\n",
      "totalvars=7, mse = 0.734094\n",
      "selected = Age ...\n",
      "totalvars=8, mse = 0.726706\n",
      "selected = Gleason ...\n",
      "totalvars=9, mse = 0.757237\n",
      "[8, 0, 1, 3, 4, 7, 5, 2, 6]\n"
     ]
    }
   ],
   "source": [
    "def fss(x, y, names_x, k = 10000):\n",
    "    p = x.shape[1]-1\n",
    "    k = min(p, k)\n",
    "    names_x = np.array(names_x)\n",
    "    remaining = range(0, p)\n",
    "    selected = [p]\n",
    "    current_score = 0.0\n",
    "    best_new_score = 0.0\n",
    "    while remaining and len(selected)<=k :\n",
    "        score_candidates = []\n",
    "        for candidate in remaining:\n",
    "            model = lm.LinearRegression(fit_intercept=False)\n",
    "            indexes = selected + [candidate]\n",
    "            x_train = x[:,indexes]\n",
    "            \n",
    "            #calcular error mediante cross validation\n",
    "            mse_candidate = C_V(x_train,y, K=10)\n",
    "            score_candidates.append((mse_candidate, candidate))\n",
    "        score_candidates.sort()\n",
    "        score_candidates[:] = score_candidates[::-1]\n",
    "        best_new_score, best_candidate = score_candidates.pop() #el de menor error es el mejor candidato\n",
    "        remaining.remove(best_candidate)\n",
    "        selected.append(best_candidate)\n",
    "        print \"selected = %s ...\"%names_x[best_candidate]\n",
    "        print \"totalvars=%d, mse = %f\"%(len(indexes),best_new_score)\n",
    "    return selected\n",
    "names_regressors = [\"Lcavol\", \"Lweight\", \"Age\", \"Lbph\", \"Svi\", \"Lcp\", \"Gleason\", \"Pgg45\"]\n",
    "sequence = fss(Xm,ym,names_regressors)\n",
    "print sequence\n"
   ]
  },
  {
   "cell_type": "markdown",
   "metadata": {},
   "source": [
    "Graficar FSS"
   ]
  },
  {
   "cell_type": "code",
   "execution_count": 55,
   "metadata": {
    "collapsed": false
   },
   "outputs": [],
   "source": [
    "mse_trains = {}\n",
    "mse_tests = {}\n",
    "aux = []\n",
    "for index in sequence:\n",
    "    aux = aux + [index]\n",
    "    model = lm.LinearRegression(fit_intercept=False)\n",
    "          \n",
    "    #calcular error de training set y test set\n",
    "    x_train = Xtrain.as_matrix()[:,aux]\n",
    "    predictions_train = model.fit(x_train, ym).predict(x_train)\n",
    "    residuals_train = predictions_train - ym\n",
    "    mse_train = np.mean(np.power(residuals_train, 2))\n",
    "    mse_trains[len(aux) -1] = mse_train\n",
    "        \n",
    "    x_test = Xtest.as_matrix()[:,aux]\n",
    "    y_test = ytest.as_matrix()\n",
    "    predictions_test = model.fit(x_train, ym).predict(x_test)\n",
    "    residuals_test= predictions_test - y_test\n",
    "    mse_test = np.mean(np.power(residuals_test, 2))\n",
    "    mse_tests[len(aux)-1] = mse_test\n",
    "\n",
    "mse_trains.pop(0) #sin contar 0 variables\n",
    "mse_tests.pop(0) #sin contar 0 variables\n",
    "import matplotlib.pylab as plt\n",
    "ax = plt.gca()\n",
    "ax.plot(range(1,9),mse_trains.values(), label='train error')\n",
    "ax.plot(range(1,9),mse_tests.values() , label='test error')\n",
    "plt.legend(loc=2)\n",
    "\n",
    "plt.xlabel('number variable')\n",
    "plt.ylabel('mean square error')\n",
    "plt.title('Error on FSS')\n",
    "plt.axis('tight')\n",
    "plt.show()"
   ]
  },
  {
   "cell_type": "code",
   "execution_count": 25,
   "metadata": {
    "collapsed": false
   },
   "outputs": [
    {
     "name": "stdout",
     "output_type": "stream",
     "text": [
      "selected to delete = Gleason ...\n",
      "totalvars=8, mse = 0.726706\n",
      "selected to delete = Age ...\n",
      "totalvars=7, mse = 0.734094\n",
      "selected to delete = Lcp ...\n",
      "totalvars=6, mse = 0.748007\n",
      "selected to delete = Pgg45 ...\n",
      "totalvars=5, mse = 0.746635\n",
      "selected to delete = Svi ...\n",
      "totalvars=4, mse = 0.748883\n",
      "selected to delete = Lbph ...\n",
      "totalvars=3, mse = 0.752606\n",
      "selected to delete = Lweight ...\n",
      "totalvars=2, mse = 0.876172\n",
      "selected to delete = Lcavol ...\n",
      "totalvars=1, mse = 1.795596\n"
     ]
    }
   ],
   "source": [
    "def bss(x, y, names_x, k = 10000):\n",
    "    p = x.shape[1]-1 #numero de caracteristicas\n",
    "    k = min(p, k)\n",
    "    names_x = np.array(names_x)\n",
    "    removing = [] #orden en que se eliminan\n",
    "    selected =  range(0, p) #cambio\n",
    "    current_score = 0.0\n",
    "    best_new_score = 0.0\n",
    "    while len(selected)>0 : #cambio\n",
    "        score_candidates = [] #candidatos a ser eliminados\n",
    "        for candidate in selected:\n",
    "            model = lm.LinearRegression(fit_intercept=False)\n",
    "            \n",
    "            indexes = [p] + selected  # p intercepto\n",
    "            indexes.remove(candidate) #elimina el posible candidato a ser eliminado indexes = selected - candidate\n",
    "            \n",
    "            x_train = x[:,indexes] #datos a probar\n",
    "            \n",
    "            #calcular error mediante cross validation\n",
    "            mse_candidate = C_V(x_train,y, K=10)\n",
    "            \n",
    "            #predictions_train = model.fit(x_train, y).predict(x_train) #y predict\n",
    "            #residuals_train = predictions_train - y\n",
    "            #mse_candidate = np.mean(np.power(residuals_train, 2))\n",
    "            score_candidates.append((mse_candidate, candidate))\n",
    "            #print \"viendo que tal es eliminar: \"+ str(candidate)+ \" entrega un error de: \"+str(mse_candidate)\n",
    "        #print \"ya se elijio una\"\n",
    "        score_candidates.sort()\n",
    "        score_candidates[:] = score_candidates[::-1]\n",
    "        #se elimina el candidato que genera menor error al ser eliminado del modelo, es decir el que menos importa\n",
    "        best_new_score, best_candidate = score_candidates.pop()  #se elimina el candidato que se saco del modeloc, con menor error\n",
    "        selected.remove(best_candidate)  #cambio\n",
    "        removing.append(best_candidate) #cambio\n",
    "        print \"selected to delete = %s ...\"%names_x[best_candidate]\n",
    "        print \"totalvars=%d, mse = %f\"%(len(indexes),best_new_score)\n",
    "    return removing\n",
    "names_regressors = [\"Lcavol\", \"Lweight\", \"Age\", \"Lbph\", \"Svi\", \"Lcp\", \"Gleason\", \"Pgg45\"]\n",
    "sequence_bss = bss(Xm,ym,names_regressors) #secuencia de eliminacion"
   ]
  },
  {
   "cell_type": "markdown",
   "metadata": {
    "collapsed": false
   },
   "source": [
    "Grafico BSS"
   ]
  },
  {
   "cell_type": "code",
   "execution_count": 56,
   "metadata": {
    "collapsed": false,
    "scrolled": true
   },
   "outputs": [
    {
     "name": "stdout",
     "output_type": "stream",
     "text": [
      "[6, 2, 5, 7, 4, 3, 1, 0]\n",
      "{1: 0.66460571129035551, 2: 0.55360963630688553, 3: 0.53753980754784947, 4: 0.48977604102709787, 5: 0.47864846764674296, 6: 0.4558175840171248, 7: 0.43936269130473249, 8: 0.43919976805833433}\n"
     ]
    }
   ],
   "source": [
    "mse_trains = {}\n",
    "mse_tests = {}\n",
    "aux = [Xm.shape[1]-1] + sequence_bss\n",
    "print sequence_bss\n",
    "for index in sequence_bss:\n",
    "    model = lm.LinearRegression(fit_intercept=False)\n",
    "\n",
    "    #calcular error de training set y test set\n",
    "    x_train = Xtrain.as_matrix()[:,aux]\n",
    "    predictions_train = model.fit(x_train, ym).predict(x_train)\n",
    "    residuals_train = predictions_train - ym\n",
    "    mse_train = np.mean(np.power(residuals_train, 2))\n",
    "    mse_trains[len(aux) -1] = mse_train\n",
    "        \n",
    "    x_test = Xtest.as_matrix()[:,aux]\n",
    "    y_test = ytest.as_matrix()\n",
    "    predictions_test = model.fit(x_train, ym).predict(x_test)\n",
    "    residuals_test= predictions_test - y_test\n",
    "    mse_test = np.mean(np.power(residuals_test, 2))\n",
    "    mse_tests[len(aux)-1] = mse_test\n",
    "    \n",
    "    aux.remove(index)\n",
    "\n",
    "print mse_trains\n",
    "import matplotlib.pylab as plt\n",
    "ax = plt.gca()\n",
    "ax.plot(range(1,9),mse_trains.values(), label='train error')\n",
    "ax.plot(range(1,9),mse_tests.values() , label='test error')\n",
    "plt.legend(loc=2)\n",
    "\n",
    "plt.xlabel('number variable')\n",
    "plt.ylabel('mean square error')\n",
    "plt.title('Error on BSS')\n",
    "plt.axis('tight')\n",
    "plt.show()"
   ]
  },
  {
   "cell_type": "code",
   "execution_count": null,
   "metadata": {
    "collapsed": true
   },
   "outputs": [],
   "source": []
  }
 ],
 "metadata": {
  "kernelspec": {
   "display_name": "Python 2",
   "language": "python",
   "name": "python2"
  },
  "language_info": {
   "codemirror_mode": {
    "name": "ipython",
    "version": 2
   },
   "file_extension": ".py",
   "mimetype": "text/x-python",
   "name": "python",
   "nbconvert_exporter": "python",
   "pygments_lexer": "ipython2",
   "version": "2.7.9"
  }
 },
 "nbformat": 4,
 "nbformat_minor": 1
}
